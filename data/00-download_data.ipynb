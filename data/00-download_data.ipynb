{
 "cells": [
  {
   "cell_type": "code",
   "execution_count": 18,
   "id": "12881ae0-43f3-4687-88a2-8b4ba8dbc67b",
   "metadata": {
    "tags": []
   },
   "outputs": [],
   "source": [
    "import pandas as pd\n",
    "import os\n",
    "df = pd.read_csv('https://raw.githubusercontent.com/atlantico-academy/datasets/refs/heads/main/penguins.csv')\n",
    "os.makedirs('data/raw', exist_ok=True)\n",
    "df.to_csv ('data.csv' , index=False)"
   ]
  },
  {
   "cell_type": "code",
   "execution_count": 23,
   "id": "407b2b0b-3e9b-4189-96c4-46865e288919",
   "metadata": {
    "tags": []
   },
   "outputs": [],
   "source": [
    "import pandas as pd\n",
    "import os\n",
    "diretorio = 'data/external'\n",
    "caminho_pasta = f\"{diretorio}/dictionary.csv\"\n",
    "os.makedirs(diretorio, exist_ok = True)\n",
    "\n",
    "data_dictionary = pd.DataFrame([\n",
    "    {\n",
    "        'variavel' : 'species',\n",
    "        'descricao' : 'Nome das três espécies dos pinguins do projeto (Adelia, Barbicha, Gentoo)',\n",
    "        'tipo' : 'qualitativa',\n",
    "        'subtipo' : 'nominal'\n",
    "    } ,\n",
    "    \n",
    "    { \n",
    "        'variavel' : 'island',\n",
    "        'descricao' : 'Nomes das ilhas da antartica onde foram encontrados os pinguins',\n",
    "        'tipo' : 'qualitativa',\n",
    "        'subtipo' : 'nominal'\n",
    "    },\n",
    "     \n",
    "    {\n",
    "        'variavel' : 'bill_lenght_mm',\n",
    "        'descricao' : 'Tamanho (em milimetro) do bico dos pinguins',\n",
    "        'tipo' : 'quantitativa',\n",
    "        'subtipo' : 'discreta'\n",
    "    },\n",
    "    \n",
    "    {\n",
    "        'variavel' : 'bill_deph_mm',\n",
    "        'descricao' : 'Profundidade (em milimetro) dos bicos dos pinguins',\n",
    "        'tipo' : 'quantitativa' ,\n",
    "        'subtipo' : 'discreta'\n",
    "    },\n",
    "    \n",
    "    {\n",
    "        'variavel' : 'fliper_lenght_mm',\n",
    "        'descricao' : 'Comprimento(em milimetro) das nadadeiras dos pinguins',\n",
    "        'tipo' : 'quantitativa' ,\n",
    "        'subtipo' : 'discreta'\n",
    "    },\n",
    "    \n",
    "    {\n",
    "        'variavel' : 'body_mass_g',\n",
    "        'descricao' : 'Peso (em gramas) dos pinguins' ,\n",
    "        'tipo' : ' quantitativa' ,\n",
    "        'subtipo': 'contínua'\n",
    "    } ,\n",
    "    \n",
    "    {\n",
    "        'variavel' : 'sex',\n",
    "        'descricao' : 'Sexo dos pinguins' ,\n",
    "        'tipo' : 'qualitativa' ,\n",
    "        'subtipo' : 'nominal' \n",
    "    }\n",
    "])\n",
    " \n",
    "data_dictionary.to_csv(caminho_pasta , index = False)   \n"
   ]
  },
  {
   "cell_type": "code",
   "execution_count": null,
   "id": "3bcddaf2-1d87-4725-8e98-8f79ac36b054",
   "metadata": {},
   "outputs": [],
   "source": []
  }
 ],
 "metadata": {
  "kernelspec": {
   "display_name": "Python 3 (ipykernel)",
   "language": "python",
   "name": "python3"
  },
  "language_info": {
   "codemirror_mode": {
    "name": "ipython",
    "version": 3
   },
   "file_extension": ".py",
   "mimetype": "text/x-python",
   "name": "python",
   "nbconvert_exporter": "python",
   "pygments_lexer": "ipython3",
   "version": "3.10.11"
  }
 },
 "nbformat": 4,
 "nbformat_minor": 5
}
